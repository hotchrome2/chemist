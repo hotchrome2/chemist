{
 "cells": [
  {
   "cell_type": "markdown",
   "id": "890cfcf5",
   "metadata": {},
   "source": [
    "# 親クラスと子クラス間で情報をやり取りする\n",
    "by Gemini\n",
    "\n",
    "属性を直接変更する代わりに、メソッド呼び出しを通じて親クラスと子クラス間で情報をやり取りする設計は、より明確で保守性の高いコードにつながることがあります。\n",
    "\n",
    "この方法では、子クラスが親クラスに「依頼」する形で状態を変更したり、親クラスが子クラスに「通知」する形で処理を促したりします。属性の直接的な操作を隠蔽することで、クラス間の依存関係をよりコントロールしやすくなります。\n",
    "\n",
    "以下に、具体的な方法と例をいくつかご紹介します。"
   ]
  },
  {
   "cell_type": "markdown",
   "id": "cafc31e6",
   "metadata": {},
   "source": [
    "## 2. 方法 1: 子クラスから親クラスのメソッドを呼び出して状態を変更する:\n",
    "子クラスが、親クラスに用意された専用のメソッドを呼び出すことで、親クラスの属性を変更します。\n",
    "- 子クラスに主導権"
   ]
  },
  {
   "cell_type": "code",
   "execution_count": null,
   "id": "d57c3f93",
   "metadata": {},
   "outputs": [],
   "source": [
    "class Parent:\n",
    "    def __init__(self, data):\n",
    "        # この属性を直接変更しないでくださいね\n",
    "        self._data = data\n",
    "\n",
    "    def get_data(self):\n",
    "        return self._data\n",
    "\n",
    "    def update_data(self, new_data):\n",
    "        print(f\"Parent: Updating data to {new_data}\")\n",
    "        self._data = new_data\n",
    "\n",
    "    def process(self):\n",
    "        print(f\"Parent processing with data: {self._data}\")\n",
    "\n",
    "\n",
    "class Child(Parent):\n",
    "    def __init__(self, child_data, parent_instance):\n",
    "        super().__init__(parent_instance.get_data())\n",
    "        # 親のデータを初期化時に取得\n",
    "        # Parent クラスの _data を引き継ぎ、独自に持つことにより、親の状態を変更しない\n",
    "        # ただし、親のメソッドを通じて変更することは可能\n",
    "\n",
    "        # 親クラスのインスタンスを保持\n",
    "        self.parent = parent_instance\n",
    "\n",
    "        self.child_specific_data = child_data\n",
    "\n",
    "    def request_parent_data_update(self, new_data):\n",
    "        # 親クラスの update_data メソッドを呼び出すことで、親の _data 属性を変更\n",
    "        print(\"Child: Requesting parent to update data...\")\n",
    "        self.parent.update_data(new_data)\n",
    "\n",
    "        # self.parent._data = new_data  # 直接変更は可能。しかし避けるべき\n",
    "        # 親クラスのメソッドを通じて状態を変更することが推奨される\n",
    "\n",
    "\n",
    "# インスタンスの作成\n",
    "parent_obj = Parent(\"初期データ\")\n",
    "child_obj = Child(\"子データ\", parent_obj)\n",
    "\n",
    "# 子クラスから親クラスのメソッドを通じて状態を変更\n",
    "child_obj.request_parent_data_update(\"メソッド経由で変更されたデータ\")\n",
    "\n",
    "# 親クラスのインスタンスで変更された属性を確認し、処理を継続\n",
    "parent_obj.process()"
   ]
  },
  {
   "cell_type": "markdown",
   "id": "41188690",
   "metadata": {},
   "source": [
    "Child クラスの request_parent_data_update メソッドが、親クラス Parent の update_data メソッドを呼び出すことで、親の _data 属性を変更しています。\n",
    "\n",
    "子クラスは親の内部構造（_data という属性名）を直接知る必要がありません。"
   ]
  },
  {
   "cell_type": "markdown",
   "id": "51935db5",
   "metadata": {},
   "source": [
    "## 2. 方法 2: 親クラスが子クラスのメソッドを呼び出して情報を取得したり、処理を促したりする (コールバック):\n",
    "親クラスが、子クラスに実装された特定のメソッドを呼び出すことで、子クラスの状態を取得したり、子クラスに何らかの処理を実行させたりします。\n",
    "- 親クラスに主導権\n",
    "\n",
    "別の言い方をすると、\n",
    "抽象基底クラス ABC を利用し、\n",
    "親クラスと子クラス間の役割と責任を明確化\n",
    "- 親クラスは、委任したい処理を抽象メソッドとして表現。実装は子クラスにまかせる\n",
    "- 子クラスは、処理を実装する。任された処理を確実に行う責任を追う\n",
    "- 抽象基底クラスは、親クラスから子クラスに委任するインターフェース（抽象メソッド）を決める\n",
    "\n"
   ]
  },
  {
   "cell_type": "code",
   "execution_count": null,
   "id": "7420ca88",
   "metadata": {
    "vscode": {
     "languageId": "plaintext"
    }
   },
   "outputs": [],
   "source": [
    "from abc import ABC, abstractmethod\n",
    "\n",
    "class Parent:\n",
    "    def __init__(self, data: str):\n",
    "        self._data = data\n",
    "\n",
    "    def process(self, processor: \"DataTransformer\"):\n",
    "        print(f\"Parent processing with initial data: {self._data}\")\n",
    "        \n",
    "        # データが None や空文字でないことを確認\n",
    "        if not self._data:\n",
    "            print(\"Error: Data is empty or None, processing aborted.\")\n",
    "            return\n",
    "        \n",
    "        updated_data = processor.transform_data(self._data)\n",
    "        self._data = updated_data\n",
    "        print(f\"Parent processing with transformed data: {self._data}\")\n",
    "\n",
    "class DataTransformer(ABC):\n",
    "    @abstractmethod\n",
    "    def transform_data(self, data: str) -> str:\n",
    "        pass\n",
    "\n",
    "class ChildProcessor(DataTransformer):\n",
    "    def transform_data(self, data: str) -> str:\n",
    "        print(\"ChildProcessor: Transforming data...\")\n",
    "        return data.upper() if data else \"INVALID DATA\"\n",
    "\n",
    "# インスタンスの作成\n",
    "parent_obj = Parent(\"lowercase data\")\n",
    "child_processor = ChildProcessor()\n",
    "\n",
    "# 親クラスのメソッドに子クラスのインスタンスを渡して処理を依頼\n",
    "parent_obj.process(child_processor)\n"
   ]
  },
  {
   "cell_type": "markdown",
   "id": "2fc0f97f",
   "metadata": {},
   "source": [
    "親プロセスで自分の属性（self._data）について処理（processメソッド）を行う時、引数に（処理を任せたい）子クラスのインスタンスを伴う。\n",
    "\n",
    "実際の処理は、その子クラスに定義されたメソッド（transform_data）が行う。\n",
    "\n",
    "注意：\n",
    "- 子クラスは親クラスの継承ではなく、class DataTransformer(ABC) の継承だ。\n"
   ]
  },
  {
   "cell_type": "markdown",
   "id": "1cc89879",
   "metadata": {},
   "source": [
    "### 3. 抽象基底クラス ABC \n",
    "抽象基底クラス\n",
    "- インターフェースを決める\n",
    "  - メソッド名 = 抽象メソッド\n",
    "  - 引数やその型\n",
    "\n",
    "子クラスは、抽象基底クラスDataTransformerを継承\n",
    "- 抽象基底クラスのインターフェースを実装（transform_data メソッド）\n",
    "\n",
    "親クラスは、子クラスで実装されたインターフェースを用いて自分の属性を処理する\n",
    "\n",
    "\n"
   ]
  },
  {
   "cell_type": "markdown",
   "id": "341b22ae",
   "metadata": {},
   "source": [
    "### 3. 抽象基底クラスのメリット\n",
    "ここでは、親クラスが特定の処理を子クラスに委譲したり、子クラスの状態に応じて振る舞いを変更したりするために、子クラスに定義されたメソッドを呼び出します。これは、親クラスが直接子クラスの具体的な実装を知らなくても、共通のインターフェースを通じて連携できるという点で強力です。\n",
    "\n",
    "#### 4. インターフェースの強制:\n",
    "\n",
    "ABC を使うと、親クラスが期待するメソッド（コールバックメソッド）を抽象メソッドとして定義できます。\n",
    "\n",
    "子クラスは、ABC を継承する際に、これらの抽象メソッドを必ず実装しなければなりません。もし実装を怠ると、子クラスのインスタンスを生成しようとした時点で TypeError が発生します。\n",
    "これにより、親クラスは、連携する子クラスが必ず必要なメソッドを持っていることを保証できます。インターフェースの不一致による実行時のエラーを防ぎ、より堅牢なコードになります。\n",
    "\n",
    "#### 4. 設計の意図の明確化:\n",
    "\n",
    "ABC は、親クラスと子クラス間の役割と責任を明確に示します。\n",
    "\n",
    "親クラスは「こういう処理を子クラスに委ねる」という意図を抽象メソッドとして表現し、子クラスは「親クラスから要求されるこの処理を実装する」という責任を負うことがコード上で明示されます。\n",
    "これにより、コードの可読性と理解度が向上し、設計の意図が伝わりやすくなります。\n",
    "\n",
    "#### 4. ポリモーフィズムの実現:\n",
    "\n",
    "ABC を継承した複数の異なる子クラスは、同じ抽象メソッドをそれぞれ独自の方法で実装できます。\n",
    "\n",
    "親クラスは、これらの子クラスのインスタンスを同じインターフェース（抽象メソッド）を通じて扱うことができるため、多様な振る舞いを統一的に扱えるポリモーフィズムを実現できます。\n",
    "親クラスのコードを変更することなく、新しい振る舞いを持つ子クラスを簡単に追加できます。\n",
    "\n",
    "#### 4. 型の安全性と静的解析の向上:\n",
    "\n",
    "ABC を使うことで、型ヒントを使って親クラスが期待するコールバックメソッドの型を明示的に記述できます。\n",
    "\n",
    "型チェッカー（mypy など）は、子クラスがこのインターフェースを正しく実装しているかどうかを静的にチェックできるため、型に関連するエラーをコンパイル時に発見しやすくなります。\n",
    "\n",
    "#### 4. まとめ\n",
    "抽象基底クラスをコールバックの仕組みに用いることで、インターフェースの強制、設計意図の明確化、ポリモーフィズムの実現、型の安全性と静的解析の向上といった多くのメリットが得られ、より柔軟で堅牢なオブジェクト指向設計が可能になります。親クラスと子クラス間の連携をより安全かつ明確に行いたい場合に、抽象基底クラスは非常に有効なツールとなります。"
   ]
  },
  {
   "cell_type": "markdown",
   "id": "859a51cf",
   "metadata": {},
   "source": [
    "## 2. 方法 3: プロパティ (@property, @setter) を使用して制御されたアクセスを提供する:\n",
    "親クラスが、属性へのアクセスや変更を制御するためのプロパティを提供します。子クラスは、これらのプロパティを通じて間接的に属性を操作します。\n",
    "\n",
    "親クラスが属性を持ち、子クラスがそれを変更する"
   ]
  },
  {
   "cell_type": "markdown",
   "id": "e6d19192",
   "metadata": {},
   "source": [
    "class Parent:\n",
    "    def __init__(self, data):\n",
    "        self._data = data\n",
    "\n",
    "    @property\n",
    "    def data(self):\n",
    "        print(\"Parent: Getting data...\")\n",
    "        return self._data\n",
    "\n",
    "    @data.setter\n",
    "    def data(self, new_data):\n",
    "        print(f\"Parent: Setting data to {new_data}\")\n",
    "        self._data = new_data\n",
    "\n",
    "    def process(self):\n",
    "        print(f\"Parent processing with data: {self.data}\")\n",
    "\n",
    "class Child(Parent):\n",
    "    def __init__(self, data):\n",
    "        super().__init__(data)  # 親のコンストラクタを呼び出す\n",
    "\n",
    "    def update_parent_data(self, new_data):\n",
    "        print(\"Child: Updating parent's data via property...\")\n",
    "        self.data = new_data  # 親の setter が呼ばれる\n",
    "\n",
    "# インスタンスの作成\n",
    "parent_obj = Parent(\"初期データ\")\n",
    "child_obj = Child(\"子データ\")\n",
    "\n",
    "# 子クラスからプロパティを通じて状態を変更\n",
    "child_obj.update_parent_data(\"プロパティ経由で変更されたデータ\")\n",
    "\n",
    "# 親クラスのインスタンスで変更された属性を確認し、処理を継続\n",
    "parent_obj.process()\n"
   ]
  },
  {
   "cell_type": "markdown",
   "id": "90da2ea6",
   "metadata": {},
   "source": [
    "Parent クラスが data プロパティを提供しており、Child クラスは self.data = ... という形で親の setter を呼び出して状態を変更しています。これにより、親クラスは属性の変更を監視したり、バリデーションなどの追加のロジックを挟んだりすることができます。\n"
   ]
  },
  {
   "cell_type": "markdown",
   "id": "ef28abaa",
   "metadata": {},
   "source": [
    "### 3. メリット:\n",
    "\n",
    "- 明確なインターフェース: \n",
    "  - クラス間のやり取りがメソッド呼び出しという明確な形で行われるため、コードの意図が理解しやすくなります。\n",
    "- カプセル化の強化: \n",
    "  - 親クラスの内部構造（属性名や実装の詳細）を隠蔽し、子クラスからの不適切なアクセスを防ぐことができます。\n",
    "- 柔軟性の向上: \n",
    "  - 状態の変更時に追加のロジック（バリデーション、通知、ログ記録など）を組み込みやすくなります。\n",
    "- 保守性の向上: \n",
    "  - クラス間の依存関係が明確になるため、一方のクラスの変更が他方に与える影響を把握しやすくなります。\n",
    "\n",
    "属性の直接的な変更が簡便である一方、\n",
    "より複雑なシステムや長期的な保守を考えると、メソッド呼び出しを通じて情報をやり取りする設計を検討する価値があります。\n"
   ]
  },
  {
   "cell_type": "markdown",
   "id": "2ad25f3e",
   "metadata": {},
   "source": [
    "last"
   ]
  },
  {
   "cell_type": "markdown",
   "id": "503abdf0",
   "metadata": {},
   "source": [
    "---"
   ]
  }
 ],
 "metadata": {
  "language_info": {
   "name": "python"
  }
 },
 "nbformat": 4,
 "nbformat_minor": 5
}
