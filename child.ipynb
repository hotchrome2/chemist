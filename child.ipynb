{
 "cells": [
  {
   "cell_type": "markdown",
   "id": "890cfcf5",
   "metadata": {},
   "source": [
    "# 親クラスと子クラス間で情報をやり取りする\n",
    "by Gemini\n",
    "\n",
    "属性を直接変更する代わりに、メソッド呼び出しを通じて親クラスと子クラス間で情報をやり取りする設計は、より明確で保守性の高いコードにつながることがあります。\n",
    "\n",
    "この方法では、子クラスが親クラスに「依頼」する形で状態を変更したり、親クラスが子クラスに「通知」する形で処理を促したりします。属性の直接的な操作を隠蔽することで、クラス間の依存関係をよりコントロールしやすくなります。\n",
    "\n",
    "以下に、具体的な方法と例をいくつかご紹介します。"
   ]
  },
  {
   "cell_type": "markdown",
   "id": "cafc31e6",
   "metadata": {},
   "source": [
    "## 2. 方法 1: 子クラスから親クラスのメソッドを呼び出して状態を変更する:\n",
    "子クラスが、親クラスに用意された専用のメソッドを呼び出すことで、親クラスの属性を変更します。\n",
    "- 子クラスに主導権"
   ]
  },
  {
   "cell_type": "code",
   "execution_count": null,
   "id": "d57c3f93",
   "metadata": {},
   "outputs": [],
   "source": [
    "class Parent:\n",
    "    def __init__(self, data):\n",
    "        # この属性を直接変更しないでくださいね\n",
    "        self._data = data\n",
    "\n",
    "    def get_data(self):\n",
    "        return self._data\n",
    "\n",
    "    def update_data(self, new_data):\n",
    "        print(f\"Parent: Updating data to {new_data}\")\n",
    "        self._data = new_data\n",
    "\n",
    "    def process(self):\n",
    "        print(f\"Parent processing with data: {self._data}\")\n",
    "\n",
    "\n",
    "class Child(Parent):\n",
    "    def __init__(self, child_data, parent_instance):\n",
    "        super().__init__(parent_instance.get_data())\n",
    "        # 親のデータを初期化時に取得\n",
    "        # Parent クラスの _data を引き継ぎ、独自に持つことにより、親の状態を変更しない\n",
    "        # ただし、親のメソッドを通じて変更することは可能\n",
    "\n",
    "        # 親クラスのインスタンスを保持\n",
    "        self.parent = parent_instance\n",
    "\n",
    "        # 子クラス独自のデータ\n",
    "        self.child_specific_data = child_data\n",
    "\n",
    "    def request_parent_data_update(self, new_data):\n",
    "        # 親クラスの update_data メソッドを呼び出すことで、親の _data 属性を変更\n",
    "        print(\"Child: Requesting parent to update data...\")\n",
    "        self.parent.update_data(new_data)\n",
    "\n",
    "        # self.parent._data = new_data  # 直接変更は可能。しかし避けるべき\n",
    "        # 親クラスのメソッドを通じて状態を変更することが推奨される\n",
    "\n",
    "\n",
    "# インスタンスの作成\n",
    "parent_obj = Parent(\"初期データ\")\n",
    "child_obj = Child(\"子データ\", parent_obj)\n",
    "\n",
    "# 子クラスから親クラスのメソッドを通じて状態を変更\n",
    "child_obj.request_parent_data_update(\"メソッド経由で変更されたデータ\")\n",
    "\n",
    "# 親クラスのインスタンスで変更された属性を確認し、処理を継続\n",
    "parent_obj.process()"
   ]
  },
  {
   "cell_type": "markdown",
   "id": "41188690",
   "metadata": {},
   "source": [
    "Child クラスの request_parent_data_update メソッドが、親クラス Parent の update_data メソッドを呼び出すことで、親の _data 属性を変更しています。\n",
    "\n",
    "子クラスは親の内部構造（_data という属性名）を直接知る必要がありません。"
   ]
  },
  {
   "cell_type": "markdown",
   "id": "7f1fa8c0",
   "metadata": {},
   "source": [
    "### 3. 類似の別案。デメリットも教えるよ\n",
    "親クラスのインスタンスと子クラスのインスタンスが、互いに相手のインスタンスへの参照を持ち、その参照を通じて属性にアクセスし、値を読み書きします。"
   ]
  },
  {
   "cell_type": "code",
   "execution_count": null,
   "id": "62a4a656",
   "metadata": {},
   "outputs": [],
   "source": [
    "class Parent:\n",
    "    def __init__(self, data):\n",
    "        self.data = data\n",
    "\n",
    "        # 子クラスのインスタンスへの参照を保持する場所\n",
    "        self.child = None\n",
    "\n",
    "    def process(self):\n",
    "        print(f\"Parent processing with its own data: {self.data}\")\n",
    "        # 子クラスのインスタンスがある場合\n",
    "        if self.child:\n",
    "            # 子のデータを参照したり\n",
    "            print(f\"Parent also sees child's data: {self.child.child_specific_data}\")\n",
    "\n",
    "            # 子に親のデータを渡したり\n",
    "            self.data = self.child.modify_parent_data(self.data)  # 子に親のデータを変更させる\n",
    "            print(f\"Parent's data after child modification: {self.data}\")\n",
    "\n",
    "\n",
    "class Child(Parent):\n",
    "    def __init__(self, parent_instance, child_data):\n",
    "        super().__init__(parent_instance.data)  # 親のデータを初期化時にコピー\n",
    "        self.child_specific_data = child_data\n",
    "\n",
    "        # 親子双方向の参照を持つ\n",
    "\n",
    "        # 子から見た親\n",
    "        self.parent = parent_instance\n",
    "\n",
    "        # 親から見た子\n",
    "        # 親に子インスタンスへの参照を渡す。元はNoneだった所に自分をセット\n",
    "        self.parent.child = self\n",
    "\n",
    "    def modify_parent_data(self, parent_data):\n",
    "        # 親のデータを変更する\n",
    "        self.parent.data = self.child_specific_data + \" (modified by child)\"\n",
    "        return self.parent.data\n",
    "\n",
    "\n",
    "# インスタンスの作成\n",
    "parent_obj = Parent(\"初期データ\")\n",
    "child_obj = Child(parent_obj, \"子固有のデータ\")\n",
    "\n",
    "# 処理の実行\n",
    "parent_obj.process()  # 初期データで処理\n",
    "\n",
    "print(\"\\n--- 子クラスによる親データの変更 ---\")\n",
    "child_obj.modify_parent_data()\n",
    "\n",
    "print(\"\\n--- 変更後の親クラスのデータで処理 ---\")\n",
    "parent_obj.process()\n",
    "\n",
    "print(\"\\nParent's data:\", parent_obj.data)\n",
    "print(\"Child's specific data:\", child_obj.child_specific_data)"
   ]
  },
  {
   "cell_type": "markdown",
   "id": "37425f57",
   "metadata": {},
   "source": [
    "#### 4. デメリット\n",
    "密結合：\n",
    "- このような双方向の参照は、親クラスと子クラスが強く結びつくことを意味します。一方のクラスの変更が他方に大きな影響を与える可能性があり、疎結合な設計に比べて柔軟性が低くなることがあります。\n",
    "\n",
    "循環参照とメモリ管理: \n",
    "- 複雑な参照関係は、ガーベジコレクションの効率に影響を与える可能性も考慮する必要があります（Python のガーベジコレクタは循環参照も適切に処理することが多いですが、念頭に置いておくべきです）。\n",
    "\n",
    "設計の意図: \n",
    "- なぜ親と子が互いに直接の参照を持ち、属性を読み書きする必要があるのか、その設計意図を明確にすることが重要です。より明確なインターフェース（メソッド呼び出し）を通じて情報のやり取りを行う方が、長期的に見て保守しやすい場合があります。"
   ]
  },
  {
   "cell_type": "markdown",
   "id": "e64fe1f0",
   "metadata": {},
   "source": [
    "#### 4. 疎結合を目指すなら抽象基底クラス\n",
    "\n",
    "抽象基底クラスは、特定のインターフェースを強制することで、\n",
    "親クラスが期待するメソッドを子クラスが必ず実装するように保証し、\n",
    "ポリモーフィズムを通じて柔軟な振る舞いを実現することを主な目的としています。\n",
    "\n",
    "親子の直接的な情報のやり取りというよりは、役割と責任の分離、共通インターフェースの定義に重点が置かれます。"
   ]
  },
  {
   "cell_type": "markdown",
   "id": "51935db5",
   "metadata": {},
   "source": [
    "## 2. 方法 2: 親クラスが子クラスのメソッドを呼び出して情報を取得したり、処理を促したりする (コールバック):\n",
    "親クラスが、子クラスに実装された特定のメソッドを呼び出すことで、子クラスの状態を取得したり、子クラスに何らかの処理を実行させたりします。\n",
    "- 親クラスに主導権\n",
    "\n",
    "別の言い方をすると、\n",
    "抽象基底クラス ABC を利用し、\n",
    "親クラスと子クラス間の役割と責任を明確化\n",
    "- 親クラスは、委任したい処理を抽象メソッドとして表現。実装は子クラスにまかせる\n",
    "- 子クラスは、処理を実装する。任された処理を確実に行う責任を追う\n",
    "- 抽象基底クラスは、親クラスから子クラスに委任するインターフェース（抽象メソッド）を決める\n",
    "\n"
   ]
  },
  {
   "cell_type": "code",
   "execution_count": null,
   "id": "7420ca88",
   "metadata": {
    "vscode": {
     "languageId": "plaintext"
    }
   },
   "outputs": [],
   "source": [
    "from abc import ABC, abstractmethod\n",
    "\n",
    "class Parent:\n",
    "    def __init__(self, data: str):\n",
    "        self._data = data\n",
    "\n",
    "    def process(self, processor: \"DataTransformer\"):\n",
    "        print(f\"Parent processing with initial data: {self._data}\")\n",
    "        \n",
    "        # データが None や空文字でないことを確認\n",
    "        if not self._data:\n",
    "            print(\"Error: Data is empty or None, processing aborted.\")\n",
    "            return\n",
    "        \n",
    "        updated_data = processor.transform_data(self._data)\n",
    "        self._data = updated_data\n",
    "        print(f\"Parent processing with transformed data: {self._data}\")\n",
    "\n",
    "class DataTransformer(ABC):\n",
    "    @abstractmethod\n",
    "    def transform_data(self, data: str) -> str:\n",
    "        pass\n",
    "\n",
    "class ChildProcessor(DataTransformer):\n",
    "    def transform_data(self, data: str) -> str:\n",
    "        print(\"ChildProcessor: Transforming data...\")\n",
    "        return data.upper() if data else \"INVALID DATA\"\n",
    "\n",
    "# インスタンスの作成\n",
    "parent_obj = Parent(\"lowercase data\")\n",
    "child_processor = ChildProcessor()\n",
    "\n",
    "# 親クラスのメソッドに子クラスのインスタンスを渡して処理を依頼\n",
    "parent_obj.process(child_processor)\n"
   ]
  },
  {
   "cell_type": "markdown",
   "id": "2fc0f97f",
   "metadata": {},
   "source": [
    "親プロセスで自分の属性（self._data）について処理（processメソッド）を行う時、引数に（処理を任せたい）子クラスのインスタンスを伴う。\n",
    "\n",
    "実際の処理は、その子クラスに定義されたメソッド（transform_data）が行う。\n",
    "\n",
    "注意：\n",
    "- 子クラスは親クラスの継承ではなく、class DataTransformer(ABC) の継承だ。\n"
   ]
  },
  {
   "cell_type": "markdown",
   "id": "1cc89879",
   "metadata": {},
   "source": [
    "### 3. 抽象基底クラス ABC \n",
    "抽象基底クラス\n",
    "- インターフェースを決める\n",
    "  - メソッド名 = 抽象メソッド\n",
    "  - 引数やその型\n",
    "\n",
    "子クラスは、抽象基底クラスDataTransformerを継承\n",
    "- 抽象基底クラスのインターフェースを実装（transform_data メソッド）\n",
    "\n",
    "親クラスは、子クラスで実装されたインターフェースを用いて自分の属性を処理する\n",
    "\n",
    "\n"
   ]
  },
  {
   "cell_type": "markdown",
   "id": "341b22ae",
   "metadata": {},
   "source": [
    "### 3. 抽象基底クラスのメリット\n",
    "ここでは、親クラスが特定の処理を子クラスに委譲したり、子クラスの状態に応じて振る舞いを変更したりするために、子クラスに定義されたメソッドを呼び出します。これは、親クラスが直接子クラスの具体的な実装を知らなくても、共通のインターフェースを通じて連携できるという点で強力です。\n",
    "\n",
    "#### 4. インターフェースの強制:\n",
    "\n",
    "ABC を使うと、親クラスが期待するメソッド（コールバックメソッド）を抽象メソッドとして定義できます。\n",
    "\n",
    "子クラスは、ABC を継承する際に、これらの抽象メソッドを必ず実装しなければなりません。もし実装を怠ると、子クラスのインスタンスを生成しようとした時点で TypeError が発生します。\n",
    "これにより、親クラスは、連携する子クラスが必ず必要なメソッドを持っていることを保証できます。インターフェースの不一致による実行時のエラーを防ぎ、より堅牢なコードになります。\n",
    "\n",
    "#### 4. 設計の意図の明確化:\n",
    "\n",
    "ABC は、親クラスと子クラス間の役割と責任を明確に示します。\n",
    "\n",
    "親クラスは「こういう処理を子クラスに委ねる」という意図を抽象メソッドとして表現し、子クラスは「親クラスから要求されるこの処理を実装する」という責任を負うことがコード上で明示されます。\n",
    "これにより、コードの可読性と理解度が向上し、設計の意図が伝わりやすくなります。\n",
    "\n",
    "#### 4. ポリモーフィズムの実現:\n",
    "\n",
    "ABC を継承した複数の異なる子クラスは、同じ抽象メソッドをそれぞれ独自の方法で実装できます。\n",
    "\n",
    "親クラスは、これらの子クラスのインスタンスを同じインターフェース（抽象メソッド）を通じて扱うことができるため、多様な振る舞いを統一的に扱えるポリモーフィズムを実現できます。\n",
    "親クラスのコードを変更することなく、新しい振る舞いを持つ子クラスを簡単に追加できます。\n",
    "\n",
    "#### 4. 型の安全性と静的解析の向上:\n",
    "\n",
    "ABC を使うことで、型ヒントを使って親クラスが期待するコールバックメソッドの型を明示的に記述できます。\n",
    "\n",
    "型チェッカー（mypy など）は、子クラスがこのインターフェースを正しく実装しているかどうかを静的にチェックできるため、型に関連するエラーをコンパイル時に発見しやすくなります。\n",
    "\n",
    "#### 4. まとめ\n",
    "抽象基底クラスをコールバックの仕組みに用いることで、インターフェースの強制、設計意図の明確化、ポリモーフィズムの実現、型の安全性と静的解析の向上といった多くのメリットが得られ、より柔軟で堅牢なオブジェクト指向設計が可能になります。親クラスと子クラス間の連携をより安全かつ明確に行いたい場合に、抽象基底クラスは非常に有効なツールとなります。"
   ]
  },
  {
   "cell_type": "markdown",
   "id": "859a51cf",
   "metadata": {},
   "source": [
    "## 2. 方法 3: プロパティ (@property, @setter) を使用して制御されたアクセスを提供する:\n",
    "親クラスが、属性へのアクセスや変更を制御するためのプロパティを提供します。子クラスは、これらのプロパティを通じて間接的に属性を操作します。\n",
    "\n",
    "親クラスが属性を持ち、子クラスがそれを変更する"
   ]
  },
  {
   "cell_type": "markdown",
   "id": "e6d19192",
   "metadata": {},
   "source": [
    "class Parent:\n",
    "    def __init__(self, data):\n",
    "        self._data = data\n",
    "\n",
    "    @property\n",
    "    def data(self):\n",
    "        print(\"Parent: Getting data...\")\n",
    "        return self._data\n",
    "\n",
    "    @data.setter\n",
    "    def data(self, new_data):\n",
    "        print(f\"Parent: Setting data to {new_data}\")\n",
    "        self._data = new_data\n",
    "\n",
    "    def process(self):\n",
    "        print(f\"Parent processing with data: {self.data}\")\n",
    "\n",
    "class Child(Parent):\n",
    "    def __init__(self, data):\n",
    "        super().__init__(data)  # 親のコンストラクタを呼び出す\n",
    "\n",
    "    def update_parent_data(self, new_data):\n",
    "        print(\"Child: Updating parent's data via property...\")\n",
    "        self.data = new_data  # 親の setter が呼ばれる\n",
    "\n",
    "# インスタンスの作成\n",
    "parent_obj = Parent(\"初期データ\")\n",
    "child_obj = Child(\"子データ\")\n",
    "\n",
    "# 子クラスからプロパティを通じて状態を変更\n",
    "child_obj.update_parent_data(\"プロパティ経由で変更されたデータ\")\n",
    "\n",
    "# 親クラスのインスタンスで変更された属性を確認し、処理を継続\n",
    "parent_obj.process()\n"
   ]
  },
  {
   "cell_type": "markdown",
   "id": "90da2ea6",
   "metadata": {},
   "source": [
    "Parent クラスが data プロパティを提供しており、Child クラスは self.data = ... という形で親の setter を呼び出して状態を変更しています。これにより、親クラスは属性の変更を監視したり、バリデーションなどの追加のロジックを挟んだりすることができます。\n"
   ]
  },
  {
   "cell_type": "markdown",
   "id": "ef28abaa",
   "metadata": {},
   "source": [
    "### 3. メリット:\n",
    "\n",
    "- 明確なインターフェース: \n",
    "  - クラス間のやり取りがメソッド呼び出しという明確な形で行われるため、コードの意図が理解しやすくなります。\n",
    "- カプセル化の強化: \n",
    "  - 親クラスの内部構造（属性名や実装の詳細）を隠蔽し、子クラスからの不適切なアクセスを防ぐことができます。\n",
    "- 柔軟性の向上: \n",
    "  - 状態の変更時に追加のロジック（バリデーション、通知、ログ記録など）を組み込みやすくなります。\n",
    "- 保守性の向上: \n",
    "  - クラス間の依存関係が明確になるため、一方のクラスの変更が他方に与える影響を把握しやすくなります。\n",
    "\n",
    "属性の直接的な変更が簡便である一方、\n",
    "より複雑なシステムや長期的な保守を考えると、メソッド呼び出しを通じて情報をやり取りする設計を検討する価値があります。\n"
   ]
  },
  {
   "cell_type": "markdown",
   "id": "347f8dbd",
   "metadata": {},
   "source": [
    "# Copilotにも抽象基底クラス（ABC）を使った方がよいと言われた\n",
    "Copilot\n",
    "\n",
    "抽象基底クラス（ABC） を使うことで密結合を解消し、設計の柔軟性と拡張性を向上できます。特に、親と子が互いに依存しすぎる関係をインターフェース経由の間接的なやり取りに置き換えることで、クラス同士の独立性を高めることができます。"
   ]
  },
  {
   "cell_type": "markdown",
   "id": "1d4fc741",
   "metadata": {},
   "source": [
    "## 2. ABCを使うべき理由\n",
    "親子間の強すぎる結びつきをなくす\n",
    "- 直接 self.parent や self.child を持つ代わりに、抽象メソッドを介して必要な処理を統一的に行える。\n",
    "\n",
    "拡張性の向上\n",
    "- 親クラスや子クラスを自由に追加・変更できる。\n",
    "\n",
    "テストのしやすさ\n",
    "- 依存性を減らし、単体テストが容易になる。"
   ]
  },
  {
   "cell_type": "code",
   "execution_count": null,
   "id": "091a77d6",
   "metadata": {
    "vscode": {
     "languageId": "plaintext"
    }
   },
   "outputs": [],
   "source": [
    "from abc import ABC, abstractmethod\n",
    "\n",
    "class ParentBase(ABC):\n",
    "    \"\"\"親クラスのインターフェース（抽象基底クラス）\"\"\"\n",
    "    @abstractmethod\n",
    "    def process(self):\n",
    "        pass\n",
    "\n",
    "    @abstractmethod\n",
    "    def update_data(self, new_data: str):\n",
    "        pass\n",
    "\n",
    "class Parent(ParentBase):\n",
    "    \"\"\"具象クラスの親\"\"\"\n",
    "    def __init__(self, data: str):\n",
    "        self.data = data\n",
    "\n",
    "    def process(self):\n",
    "        \"\"\"親独自の処理\n",
    "        \"\"\"\n",
    "        print(f\"Parent processing with its own data: {self.data}\")\n",
    "\n",
    "    def update_data(self, new_data: str):\n",
    "        \"\"\"親の属性を変更するだけ。新しい値は他者に用意してもらう＝委任\n",
    "        \"\"\"\n",
    "        print(f\"Parent: Updating data to {new_data}\")\n",
    "        self.data = new_data\n",
    "\n",
    "class DataModifier(ABC):\n",
    "    \"\"\"データを加工する抽象基底クラス\"\"\"\n",
    "    @abstractmethod\n",
    "    def modify_data(self, parent_data: str) -> str:\n",
    "        pass\n",
    "\n",
    "class Child(DataModifier):\n",
    "    \"\"\"親と密結合しない形でデータを加工する子クラス\n",
    "\n",
    "    子ならではの処理をこっちに記述\n",
    "    \"\"\"\n",
    "    def __init__(self, child_data: str):\n",
    "        \"\"\"子固有の属性を初期化\n",
    "\n",
    "        親の属性は持ち込まない\n",
    "        子は、親への直接的な参照を持たない\n",
    "        親のデータは、メソッドの引数としてのみ受け付けます\n",
    "        \"\"\"\n",
    "        self.child_specific_data = child_data\n",
    "\n",
    "    def modify_data(self, parent_data: str) -> str:\n",
    "        \"\"\"データ加工処理\n",
    "        \n",
    "        引数は親のデータかもしれないがあまり気にしない\n",
    "        直接親の属性を参照しない\n",
    "        子はデータの加工にのみ注力する\n",
    "        \"\"\"\n",
    "        print(\"Child: Modifying parent's data...\")\n",
    "        return parent_data + \" (modified by child)\"\n",
    "\n",
    "# インスタンスの作成\n",
    "parent_obj = Parent(\"初期データ\")\n",
    "child_modifier = Child(\"子固有のデータ\")\n",
    "\n",
    "# データの更新\n",
    "new_parent_data = child_modifier.modify_data(parent_obj.data)\n",
    "parent_obj.update_data(new_parent_data)\n",
    "\n",
    "# 処理の実行\n",
    "parent_obj.process()\n"
   ]
  },
  {
   "cell_type": "markdown",
   "id": "1d562946",
   "metadata": {},
   "source": [
    "## 2. ポイント\n",
    "### 3. 親クラスと子クラスを完全に分離\n",
    "\n",
    "ParentBase を使って、親クラスのインターフェースを定義。\n",
    "\n",
    "Parent クラスは ParentBase を実装し、親の動作をカプセル化。\n",
    "\n",
    "子クラスは Parent に直接依存せず、インターフェース DataModifier を通じてデータ処理のみを担当。\n",
    "\n",
    "### 3. 子クラスは親クラスのインスタンスを持たない\n",
    "\n",
    "Child は modify_data() を通じてデータ加工を行うが、Parent への直接的な参照を持たない。\n",
    "\n",
    "### 3. 親はインターフェースを通じてデータを更新\n",
    "\n",
    "Child は親を持たず、親のデータを引数として受け取り加工する。\n",
    "\n",
    "### 3. 親と子で別々の抽象基底クラスを用意\n",
    "もし「ABCを継承するクラスを減らしたい」「もっとシンプルにしたい」ということであれば、ParentBase をなくして Parent を直接使う形にもできます。\n",
    "ただ、抽象基底クラスを使うことで、複数の親・複数のデータ加工クラスが共存できる拡張性が生まれる\n",
    "\n",
    "#### 4. ParentBase（親の抽象基底クラス）\n",
    "\n",
    "ParentBase は親クラスのインターフェースとして働きます。\n",
    "\n",
    "これを継承する Parent は、具体的な処理 (process や update_data) を実装します。\n",
    "\n",
    "もし Parent とは異なる別の親クラスを作りたくなった場合、ParentBase を継承する新しいクラスを追加できるので柔軟性が増します。\n",
    "\n",
    "#### 4. DataModifier（データを加工する抽象基底クラス）\n",
    "\n",
    "DataModifier はデータを加工するためのインターフェースとして働きます。\n",
    "\n",
    "Child は DataModifier を継承し、modify_data の具体的な処理を定義します。\n",
    "\n",
    "これにより、異なるデータ変換ロジックを持つクラス（例えば AdvancedModifier や SpecialModifier）を追加できるので、拡張がしやすくなります。"
   ]
  },
  {
   "cell_type": "markdown",
   "id": "40d83b4f",
   "metadata": {},
   "source": [
    "# 抽象基底クラスのブログその1\n",
    "https://qiita.com/TrashBoxx/items/7a76e46122191529c526 Pythonの抽象クラス(ABCmeta)を詳しく説明したい\n"
   ]
  },
  {
   "cell_type": "markdown",
   "id": "eaaf5d68",
   "metadata": {},
   "source": [
    "## 2. 基本の書き方 0"
   ]
  },
  {
   "cell_type": "code",
   "execution_count": null,
   "id": "27d5b813",
   "metadata": {
    "vscode": {
     "languageId": "plaintext"
    }
   },
   "outputs": [],
   "source": [
    "# 抽象クラスの定義\n",
    "from abc import ABC, abstractmethod\n",
    "\n",
    "class Person0(ABC):\n",
    "\n",
    "    @abstractmethod\n",
    "    def greeting(self):\n",
    "        pass\n"
   ]
  },
  {
   "cell_type": "code",
   "execution_count": null,
   "id": "8db51ce5",
   "metadata": {
    "vscode": {
     "languageId": "plaintext"
    }
   },
   "outputs": [],
   "source": [
    "# 継承したクラス\n",
    "class Yamada0(Person):\n",
    "\n",
    "    def greeting(self):\n",
    "        print(\"こんにちは、山田です。\")"
   ]
  },
  {
   "cell_type": "markdown",
   "id": "4f51b756",
   "metadata": {},
   "source": [
    "## 2. 抽象クラス 応用"
   ]
  },
  {
   "cell_type": "markdown",
   "id": "a0133b21",
   "metadata": {},
   "source": [
    "### 3. classmethod、staticmethod、propertyの抽象化"
   ]
  },
  {
   "cell_type": "markdown",
   "id": "fb535756",
   "metadata": {},
   "source": [
    "#### 4. 抽象クラス Person"
   ]
  },
  {
   "cell_type": "code",
   "execution_count": null,
   "id": "8747b6f1",
   "metadata": {
    "vscode": {
     "languageId": "plaintext"
    }
   },
   "outputs": [],
   "source": [
    "class Person(ABC):\n",
    "\n",
    "    @staticmethod\n",
    "    @abstractmethod\n",
    "    def age_fudging(age):\n",
    "        \"\"\"サバを読んで年齢を返す\n",
    "        \"\"\"\n",
    "        pass\n",
    "\n",
    "    @classmethod\n",
    "    @abstractmethod\n",
    "    def weight_fudging(cls, weight):\n",
    "        \"\"\"サバを読んで体重を返す\n",
    "        \"\"\"\n",
    "        pass\n",
    "\n",
    "    @property\n",
    "    @abstractmethod\n",
    "    def age(self):\n",
    "        \"\"\"年齢プロパティ\n",
    "        \"\"\"\n",
    "        pass\n",
    "\n",
    "    # ageプロパティのセッターのインターフェース\n",
    "    @age.setter\n",
    "    @abstractmethod\n",
    "    def age(self, val):\n",
    "        \"\"\"年齢セッター\n",
    "        \"\"\"\n",
    "        pass\n",
    "\n",
    "    @property\n",
    "    @abstractmethod\n",
    "    def weight(self):\n",
    "        \"\"\"体重プロパティ\n",
    "        \"\"\"\n",
    "        pass\n",
    "\n",
    "    # weightプロパティのセッターのインターフェース\n",
    "    @weight.setter\n",
    "    @abstractmethod\n",
    "    def weight(self, val):\n",
    "        \"\"\"体重セッター\n",
    "        \"\"\"\n",
    "        pass\n"
   ]
  },
  {
   "cell_type": "markdown",
   "id": "fc7aa581",
   "metadata": {},
   "source": [
    "#### 4. 実装 山田\n",
    "本当の年齢・体重は、外部から触ってほしくないので、\n",
    "変数名の先頭に __ を付けて名前マングリングを施す。\n",
    "\n",
    "外部から年齢・体重を読み書きするため、\n",
    "getter/setter（プロパティ）を用意する。"
   ]
  },
  {
   "cell_type": "code",
   "execution_count": null,
   "id": "d8b45054",
   "metadata": {
    "vscode": {
     "languageId": "plaintext"
    }
   },
   "outputs": [],
   "source": [
    "class Yamada(Person):\n",
    "\n",
    "    def __init__(self):\n",
    "        # 本当の年齢\n",
    "        self.__age = 30\n",
    "\n",
    "        # 本当の体重\n",
    "        self.__weight = 120\n",
    "        # インスタンスの変数名の先頭に _ を使うと、慣習的に非公開\n",
    "        # インスタンスの変数名の先頭に __ を使うのは、名前マングリングと言われ、外部から直接アクセス不能\n",
    "    \n",
    "    #10歳サバ読み\n",
    "    @staticmethod\n",
    "    def age_fudging(age):\n",
    "        return age - 10\n",
    "    \n",
    "    #20kgサバ読み\n",
    "    @classmethod\n",
    "    def weight_fudging(cls, weight):\n",
    "        return weight - 20\n",
    "    \n",
    "    @property\n",
    "    def age(self):\n",
    "        \"\"\"\n",
    "        ageプロパティが呼ばれたら、本当の年齢より10歳サバ読みするメソッドを介してから年齢を返す\n",
    "        \"\"\"\n",
    "        return Yamada.age_fudging(self.__age)\n",
    "    \n",
    "    @age.setter\n",
    "    def age(self):\n",
    "        return\n",
    "    \n",
    "    @property\n",
    "    def weight(self):\n",
    "        return self.weight_fudging(self.__weight)\n",
    "    \n",
    "    @weight.setter\n",
    "    def weight(self):\n",
    "        return\n"
   ]
  },
  {
   "cell_type": "markdown",
   "id": "3eb90265",
   "metadata": {},
   "source": [
    "使用例"
   ]
  },
  {
   "cell_type": "code",
   "execution_count": null,
   "id": "9ac0e880",
   "metadata": {
    "vscode": {
     "languageId": "plaintext"
    }
   },
   "outputs": [],
   "source": [
    "y = Yamada()\n",
    "\n",
    "# インスタンスの age, weight プロパティにアクセスすると、サバを読んだ結果を返す\n",
    "print(y.age, y.weight)\n",
    "# 20 100"
   ]
  },
  {
   "cell_type": "markdown",
   "id": "2ec85899",
   "metadata": {},
   "source": [
    "# 抽象基底クラスのブログその2\n",
    "https://note.com/leapcell/n/n9fe4c1076f3a\n",
    "Python応用：抽象基底クラスABCを使いこなす"
   ]
  },
  {
   "cell_type": "markdown",
   "id": "464b16c3",
   "metadata": {},
   "source": [
    "## 2. 初期：シンプルだが厳密さに欠ける\n",
    "クラス継承は使っているが。\n",
    "\n",
    "問題：\n",
    "- サブクラスに必要なすべてのメソッドを実装するよう強制することができません。\n",
    "- 基底クラスのメソッドのシグネチャ（パラメータリスト）がサブクラスのそれと一致しない場合があります。\n",
    "- 明確なインターフェイス契約がありません。\n"
   ]
  },
  {
   "cell_type": "code",
   "execution_count": null,
   "id": "aa79c6c8",
   "metadata": {
    "vscode": {
     "languageId": "plaintext"
    }
   },
   "outputs": [],
   "source": [
    "class LeapCellFileHandler:\n",
    "    def read(self, filename):\n",
    "        pass\n",
    "\n",
    "    def write(self, filename, data):\n",
    "        pass\n",
    "\n",
    "class LeapCellJsonHandler(LeapCellFileHandler):\n",
    "    def read(self, filename):\n",
    "        import json\n",
    "        with open(filename, 'r') as f:\n",
    "            return json.load(f)\n",
    "\n",
    "    def write(self, filename, data):\n",
    "        import json\n",
    "        with open(filename, 'w') as f:\n",
    "            json.dump(data, f)\n",
    "\n",
    "class LeapCellCsvHandler(LeapCellFileHandler):\n",
    "    def read(self, filename):\n",
    "        import csv\n",
    "        with open(filename, 'r') as f:\n",
    "            return list(csv.reader(f))\n"
   ]
  },
  {
   "cell_type": "markdown",
   "id": "747b852d",
   "metadata": {},
   "source": [
    "## 2. 改良バージョン：抽象基底クラスを使用\n",
    "\n",
    "abstractmethodデコレータを使って抽象メソッドをマーク\n"
   ]
  },
  {
   "cell_type": "code",
   "execution_count": null,
   "id": "c9286eb3",
   "metadata": {
    "vscode": {
     "languageId": "plaintext"
    }
   },
   "outputs": [],
   "source": [
    "from abc import ABC, abstractmethod\n",
    "\n",
    "class LeapCellFileHandler(ABC):\n",
    "    @abstractmethod\n",
    "    def read(self, filename: str):\n",
    "        \"\"\"ファイルの内容を読み取る\"\"\"\n",
    "        pass\n",
    "\n",
    "    @abstractmethod\n",
    "    def write(self, filename: str, data: any):\n",
    "        \"\"\"ファイルに内容を書き込む\"\"\"\n",
    "        pass\n",
    "\n",
    "class LeapCellJsonHandler(LeapCellFileHandler):\n",
    "    def read(self, filename: str):\n",
    "        import json\n",
    "        with open(filename, 'r') as f:\n",
    "            return json.load(f)\n",
    "\n",
    "    def write(self, filename: str, data: any):\n",
    "        import json\n",
    "        with open(filename, 'w') as f:\n",
    "            json.dump(data, f)\n"
   ]
  },
  {
   "cell_type": "markdown",
   "id": "f1835f58",
   "metadata": {},
   "source": [
    "使い方"
   ]
  },
  {
   "cell_type": "code",
   "execution_count": null,
   "id": "0ae9060f",
   "metadata": {
    "vscode": {
     "languageId": "plaintext"
    }
   },
   "outputs": [],
   "source": [
    "# インスタンス作成\n",
    "# handler = LeapCellJsonHandler(...)"
   ]
  },
  {
   "cell_type": "markdown",
   "id": "de51195e",
   "metadata": {},
   "source": [
    "## 2. さらなる最適化：型ヒントとインターフェイス制約の追加"
   ]
  },
  {
   "cell_type": "code",
   "execution_count": null,
   "id": "4a456ef0",
   "metadata": {
    "vscode": {
     "languageId": "plaintext"
    }
   },
   "outputs": [],
   "source": [
    "from abc import ABC, abstractmethod\n",
    "from typing import Any, List, Dict, Union\n",
    "\n",
    "class LeapCellFileHandler(ABC):\n",
    "    @abstractmethod\n",
    "    def read(self, filename: str) -> Union[Dict, List]:\n",
    "        \"\"\"ファイルの内容を読み取り、解析されたデータ構造を返す\"\"\"\n",
    "        pass\n",
    "\n",
    "    @abstractmethod\n",
    "    def write(self, filename: str, data: Union[Dict, List]) -> None:\n",
    "        \"\"\"データ構造をファイルに書き込む\n",
    "\n",
    "        Union[Dict, List] は、どちらの型でも許容するの意\n",
    "        \"\"\"\n",
    "        pass\n",
    "\n",
    "    @property\n",
    "    @abstractmethod\n",
    "    def supported_extensions(self) -> List[str]:\n",
    "        \"\"\"サポートされるファイル拡張子のリストを返す\n",
    "        \n",
    "        抽象メソッドではなく、抽象プロパティであることを指定するデコレータの付け方\n",
    "        \"\"\"\n",
    "        pass\n",
    "\n",
    "class LeapCellJsonHandler(LeapCellFileHandler):\n",
    "    def read(self, filename: str) -> Dict:\n",
    "        import json\n",
    "        with open(filename, 'r') as f:\n",
    "            return json.load(f)\n",
    "\n",
    "    def write(self, filename: str, data: Dict) -> None:\n",
    "        import json\n",
    "        with open(filename, 'w') as f:\n",
    "            json.dump(data, f)\n",
    "\n",
    "    @property\n",
    "    def supported_extensions(self) -> List[str]:\n",
    "        return ['.json']\n",
    "\n",
    "# 使用例\n",
    "def process_leapcell_file(handler: LeapCellFileHandler, filename: str) -> None:\n",
    "    \"\"\"\n",
    "    Args:\n",
    "        handler: どの実装クラスが来ても良い\n",
    "    \"\"\"\n",
    "    if any(filename.endswith(ext) for ext in handler.supported_extensions):\n",
    "        # 抽象基底クラスとは関係ないが、戸惑ったので調べた\n",
    "        # 分解:\n",
    "        # handler.supported_extensionsについて。プロパティは、.プロパティ名 にて値を返す\n",
    "        # any([ ]) とリスト内包表記でリストにしてっしまっても同じ判定結果となるが、いったんリストを完成させる点が残念な点。\n",
    "        # any( ) であれば、ジェネレータ式を一回ずつ評価し、Trueが出た時点で判定結果が確定するので、無駄なループを回さない\n",
    "\n",
    "        # 実装メソッド readとwriteを呼ぶ\n",
    "        data = handler.read(filename)\n",
    "        handler.write(f'processed_{filename}', data)\n",
    "    else:\n",
    "        raise ValueError(f\"{filename}に対してサポートされていないファイル拡張子です\")\n"
   ]
  },
  {
   "cell_type": "markdown",
   "id": "c0d3878d",
   "metadata": {},
   "source": [
    "### 3. 抽象プロパティ\n",
    "上に出て来たけど、こう書いてね\n",
    "\n",
    "抽象基底クラスでの書き方:\n",
    "```\n",
    "    @property\n",
    "    @abstractmethod\n",
    "    def プロパティ名\n",
    "        pass\n",
    "```\n",
    "\n",
    "実装クラスでの書き方:\n",
    "```\n",
    "    @property\n",
    "    def プロパティ名\n",
    "```\n",
    "\n",
    "実行する場所での書き方:\n",
    "```\n",
    "インスタンス = 実装クラス()\n",
    "インスタンス.プロパティ名\n",
    "```\n"
   ]
  },
  {
   "cell_type": "markdown",
   "id": "4712692c",
   "metadata": {},
   "source": [
    "## 2. raise NotImplementedErrorを使う例\n",
    "抽象基底クラスの中に、通常のインスタンスメソッドを定義したなら、\n",
    "継承先クラスのインスタンスでそのメソッドを使用できる。"
   ]
  },
  {
   "cell_type": "code",
   "execution_count": null,
   "id": "2f0e9ae5",
   "metadata": {
    "vscode": {
     "languageId": "plaintext"
    }
   },
   "outputs": [],
   "source": [
    "from abc import ABC, abstractmethod\n",
    "\n",
    "class LeapCellFileHandler(ABC):\n",
    "\n",
    "    # 抽象メソッド\n",
    "    @abstractmethod\n",
    "    def read(self, filename: str) -> Dict:\n",
    "        \"\"\"サブクラスで必ずオーバーライド（再実装）する必要がある\n",
    "        \"\"\"\n",
    "        pass\n",
    "\n",
    "    # 通常のインスタンスメソッド\n",
    "    def process(self, filename: str) -> Dict:\n",
    "        data = self.read(filename)\n",
    "        if not self._validate(data):\n",
    "            raise ValueError(\"データ形式が無効です\")\n",
    "        return self._transform(data)\n",
    "\n",
    "    # 通常のインスタンスメソッド\n",
    "    def _validate(self, data: Dict) -> bool:\n",
    "        raise NotImplementedError(\"サブクラスは実装する必要があります\")\n",
    "        # 解説: 要するに、抽象メソッドではないから実装は必須ではないけれど例外発生させたくないサブクラスでは実装してねという意味。\n",
    "        #       だが、素直に抽象メソッドにした方が設計意図が明確になる\n",
    "\n",
    "    # 通常のインスタンスメソッド\n",
    "    def _transform(self, data: Dict) -> Dict:\n",
    "        # デフォルトの実装\n",
    "        return data\n"
   ]
  },
  {
   "cell_type": "markdown",
   "id": "2ad25f3e",
   "metadata": {},
   "source": [
    "last"
   ]
  },
  {
   "cell_type": "markdown",
   "id": "503abdf0",
   "metadata": {},
   "source": [
    "---"
   ]
  }
 ],
 "metadata": {
  "language_info": {
   "name": "python"
  }
 },
 "nbformat": 4,
 "nbformat_minor": 5
}
